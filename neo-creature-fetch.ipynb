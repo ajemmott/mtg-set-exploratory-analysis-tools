{
 "cells": [
  {
   "cell_type": "markdown",
   "metadata": {},
   "source": [
    "# Fetching Set Creature Data from Scryfall"
   ]
  },
  {
   "cell_type": "markdown",
   "metadata": {},
   "source": [
    "## Testing the API\n",
    "\n",
    "first we need to understand how the API works. Let's try a simple request and status code query."
   ]
  },
  {
   "cell_type": "code",
   "execution_count": 1,
   "metadata": {},
   "outputs": [],
   "source": [
    "import requests\n",
    "import pandas as pd"
   ]
  },
  {
   "cell_type": "code",
   "execution_count": null,
   "metadata": {},
   "outputs": [],
   "source": [
    "response = requests.get(\"https://api.scryfall.com/cards/search?q=moonsnare\")\n",
    "\n",
    "print(response)\n",
    "print(type(response))\n",
    "print(response.status_code)\n"
   ]
  },
  {
   "cell_type": "markdown",
   "metadata": {},
   "source": [
    "undertstanding the json method of the request response"
   ]
  },
  {
   "cell_type": "code",
   "execution_count": null,
   "metadata": {},
   "outputs": [],
   "source": [
    "\n",
    "response_json = response.json()\n",
    "\n",
    "print(type(response_json))\n",
    "print(str(response_json)[0:350])"
   ]
  },
  {
   "cell_type": "markdown",
   "metadata": {},
   "source": [
    "fields in a scryfall card search request"
   ]
  },
  {
   "cell_type": "code",
   "execution_count": null,
   "metadata": {},
   "outputs": [],
   "source": [
    "print(response_json.keys())\n"
   ]
  },
  {
   "cell_type": "code",
   "execution_count": null,
   "metadata": {},
   "outputs": [],
   "source": [
    "import json\n",
    "\n",
    "print(json.dumps(response_json[\"data\"], indent=2, ensure_ascii=False))"
   ]
  },
  {
   "cell_type": "markdown",
   "metadata": {},
   "source": [
    "fields in different card objects"
   ]
  },
  {
   "cell_type": "code",
   "execution_count": 2,
   "metadata": {},
   "outputs": [],
   "source": [
    "\n",
    "response = requests.get(\"https://api.scryfall.com/cards/search?q=set:neo (t:creature or t:vehicle) (r:c or r:u) order:mv\")\n",
    "response_json = response.json()\n",
    "\n",
    "# for object in response_json[\"data\"]:\n",
    "#    print(f\"{object['name']}\\ntype: {object['type_line']}\\nkeys: {object.keys()}\\n\")\n"
   ]
  },
  {
   "cell_type": "markdown",
   "metadata": {},
   "source": [
    "building a dataframe"
   ]
  },
  {
   "cell_type": "code",
   "execution_count": 8,
   "metadata": {},
   "outputs": [
    {
     "data": {
      "text/html": [
       "<div>\n",
       "<style scoped>\n",
       "    .dataframe tbody tr th:only-of-type {\n",
       "        vertical-align: middle;\n",
       "    }\n",
       "\n",
       "    .dataframe tbody tr th {\n",
       "        vertical-align: top;\n",
       "    }\n",
       "\n",
       "    .dataframe thead th {\n",
       "        text-align: right;\n",
       "    }\n",
       "</style>\n",
       "<table border=\"1\" class=\"dataframe\">\n",
       "  <thead>\n",
       "    <tr style=\"text-align: right;\">\n",
       "      <th></th>\n",
       "      <th>name</th>\n",
       "      <th>colors</th>\n",
       "      <th>cmc</th>\n",
       "      <th>type_line</th>\n",
       "      <th>stats</th>\n",
       "    </tr>\n",
       "  </thead>\n",
       "  <tbody>\n",
       "    <tr>\n",
       "      <th>0</th>\n",
       "      <td>Dockside Chef</td>\n",
       "      <td>[B]</td>\n",
       "      <td>1.0</td>\n",
       "      <td>Enchantment Creature — Human Citizen</td>\n",
       "      <td>=\"1/2\"</td>\n",
       "    </tr>\n",
       "    <tr>\n",
       "      <th>1</th>\n",
       "      <td>Fang of Shigeki</td>\n",
       "      <td>[G]</td>\n",
       "      <td>1.0</td>\n",
       "      <td>Enchantment Creature — Snake Ninja</td>\n",
       "      <td>=\"1/1\"</td>\n",
       "    </tr>\n",
       "    <tr>\n",
       "      <th>2</th>\n",
       "      <td>Generous Visitor</td>\n",
       "      <td>[G]</td>\n",
       "      <td>1.0</td>\n",
       "      <td>Creature — Spirit</td>\n",
       "      <td>=\"1/1\"</td>\n",
       "    </tr>\n",
       "    <tr>\n",
       "      <th>3</th>\n",
       "      <td>Hotshot Mechanic</td>\n",
       "      <td>[W]</td>\n",
       "      <td>1.0</td>\n",
       "      <td>Artifact Creature — Fox Pilot</td>\n",
       "      <td>=\"2/1\"</td>\n",
       "    </tr>\n",
       "    <tr>\n",
       "      <th>4</th>\n",
       "      <td>Iron Apprentice</td>\n",
       "      <td>[]</td>\n",
       "      <td>1.0</td>\n",
       "      <td>Artifact Creature — Construct</td>\n",
       "      <td>=\"0/0\"</td>\n",
       "    </tr>\n",
       "  </tbody>\n",
       "</table>\n",
       "</div>"
      ],
      "text/plain": [
       "               name colors  cmc                             type_line   stats\n",
       "0     Dockside Chef    [B]  1.0  Enchantment Creature — Human Citizen  =\"1/2\"\n",
       "1   Fang of Shigeki    [G]  1.0    Enchantment Creature — Snake Ninja  =\"1/1\"\n",
       "2  Generous Visitor    [G]  1.0                     Creature — Spirit  =\"1/1\"\n",
       "3  Hotshot Mechanic    [W]  1.0         Artifact Creature — Fox Pilot  =\"2/1\"\n",
       "4   Iron Apprentice     []  1.0         Artifact Creature — Construct  =\"0/0\""
      ]
     },
     "execution_count": 8,
     "metadata": {},
     "output_type": "execute_result"
    }
   ],
   "source": [
    "\n",
    "# series = ['name', 'colors', 'cmc', 'type_line', 'power', 'toughness']\n",
    "alt_series = ['name', 'colors', 'cmc', 'type_line']\n",
    "\n",
    "data = { column: [card[column] for card in response_json['data']\n",
    "if 'Saga' not in card['type_line']]\n",
    "for column in alt_series }\n",
    "\n",
    "data['stats'] = [str(f\"=\\\"{card['power']}/{card['toughness']}\\\"\") for card in response_json['data'] if 'Saga' not in card['type_line']]\n",
    "df = pd.DataFrame(data)\n",
    "df.head()\n",
    "\n"
   ]
  },
  {
   "cell_type": "code",
   "execution_count": 9,
   "metadata": {},
   "outputs": [],
   "source": [
    "df.to_csv('neo-creatures-alt.csv',sep=';')"
   ]
  }
 ],
 "metadata": {
  "interpreter": {
   "hash": "57e6db5ae71dd274647172efeabce08e2f8f7f53e84cc34a0d4cee0699a18ebe"
  },
  "kernelspec": {
   "display_name": "Python 3.10.0 64-bit",
   "language": "python",
   "name": "python3"
  },
  "language_info": {
   "codemirror_mode": {
    "name": "ipython",
    "version": 3
   },
   "file_extension": ".py",
   "mimetype": "text/x-python",
   "name": "python",
   "nbconvert_exporter": "python",
   "pygments_lexer": "ipython3",
   "version": "3.10.0"
  },
  "orig_nbformat": 4
 },
 "nbformat": 4,
 "nbformat_minor": 2
}
