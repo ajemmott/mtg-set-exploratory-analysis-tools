{
 "cells": [
  {
   "cell_type": "markdown",
   "metadata": {},
   "source": [
    "# MTG Set Data Analysis for Limited"
   ]
  },
  {
   "cell_type": "markdown",
   "metadata": {},
   "source": [
    "Import libraries"
   ]
  },
  {
   "cell_type": "code",
   "execution_count": 2,
   "metadata": {},
   "outputs": [],
   "source": [
    "import requests\n",
    "import pandas as pd\n",
    "import matplotlib.pyplot as plt\n",
    "import seaborn as sns\n",
    "import json\n",
    "import re\n",
    "\n",
    "#to print plot below notebook cell:\n",
    "%matplotlib inline"
   ]
  },
  {
   "cell_type": "markdown",
   "metadata": {},
   "source": [
    "Quick review of scryfall's and requests api data structure"
   ]
  },
  {
   "cell_type": "code",
   "execution_count": 3,
   "metadata": {},
   "outputs": [
    {
     "name": "stdout",
     "output_type": "stream",
     "text": [
      "Data type: <class 'requests.models.Response'>\n",
      "Json data type: <class 'dict'>\n",
      "dict_keys(['object', 'total_cards', 'has_more', 'next_page', 'data']) \n",
      "\n",
      "query['object']: <class 'str'>\n",
      "\tlist\n",
      "\n",
      "query['total_cards']: <class 'int'>\n",
      "\t924\n",
      "\n",
      "query['has_more']: <class 'bool'>\n",
      "\tTrue\n",
      "\n",
      "query['next_page']: <class 'str'>\n",
      "\thttps://api.scryfall.com/cards/search?format=json&include_extras=false&include_multilingual=false&order=name&page=2&q=legal%3Astandard+c%3C%3Dub&unique=cards\n",
      "\n",
      "query['data']: <class 'list'>\n",
      "\tquery['data'][0]: <class 'dict'>\n",
      "\t\t: dict_keys(['object', 'id', 'oracle_id', 'multiverse_ids', 'mtgo_id', 'arena_id', 'tcgplayer_id', 'cardmarket_id', 'name', 'lang', 'released_at', 'uri', 'scryfall_uri', 'layout', 'highres_image', 'image_status', 'image_uris', 'mana_cost', 'cmc', 'type_line', 'oracle_text', 'power', 'toughness', 'colors', 'color_identity', 'keywords', 'legalities', 'games', 'reserved', 'foil', 'nonfoil', 'finishes', 'oversized', 'promo', 'reprint', 'variation', 'set_id', 'set', 'set_name', 'set_type', 'set_uri', 'set_search_uri', 'scryfall_set_uri', 'rulings_uri', 'prints_search_uri', 'collector_number', 'digital', 'rarity', 'card_back_id', 'artist', 'artist_ids', 'illustration_id', 'border_color', 'frame', 'full_art', 'textless', 'booster', 'story_spotlight', 'edhrec_rank', 'preview', 'prices', 'related_uris', 'purchase_uris'])\n"
     ]
    }
   ],
   "source": [
    "#Example request\n",
    "response = requests.get(\"https://api.scryfall.com/cards/search?q=legal:standard c<=ub\")\n",
    "print(f'Data type: {type(response)}')\n",
    "\n",
    "#Response dictionary structure\n",
    "query_response = response.json()\n",
    "print(f'Json data type: {type(query_response)}')\n",
    "print(query_response.keys(),'\\n')\n",
    "\n",
    "print(f\"query['object']: {type(query_response['object'])}\\n\\t{query_response['object']}\\n\")\n",
    "\n",
    "print(f\"query['total_cards']: {type(query_response['total_cards'])}\\n\\t{query_response['total_cards']}\\n\")\n",
    "\n",
    "print(f\"query['has_more']: {type(query_response['has_more'])}\\n\\t{query_response['has_more']}\\n\")\n",
    "\n",
    "print(f\"query['next_page']: {type(query_response['next_page'])}\\n\\t{query_response['next_page']}\\n\")\n",
    "\n",
    "query_data = query_response['data']\n",
    "print(f\"query['data']: {type(query_data)}\")\n",
    "\n",
    "card_data =  query_data[0]\n",
    "print(f\"\\tquery['data'][0]: {type(card_data)}\")\n",
    "print(f\"\\t\\t: {card_data.keys()}\")"
   ]
  },
  {
   "cell_type": "code",
   "execution_count": 4,
   "metadata": {},
   "outputs": [],
   "source": [
    "#card_data structure\n",
    "with open('./card-example.json', 'w', encoding='utf-8') as f:\n",
    "    f.write(json.dumps(card_data, indent=2, ensure_ascii=False))\n"
   ]
  },
  {
   "cell_type": "markdown",
   "metadata": {},
   "source": [
    "Working Class"
   ]
  },
  {
   "cell_type": "code",
   "execution_count": 5,
   "metadata": {},
   "outputs": [],
   "source": [
    "class ScryfallCardQuery:\n",
    "    def __init__(self, raw_response):\n",
    "        self.object = raw_response['object']\n",
    "        self.total_cards = raw_response['total_cards']\n",
    "        self.has_more = raw_response['has_more']\n",
    "        self.raw_data = raw_response['data']\n",
    "        self.data = pd.DataFrame()\n",
    "\n",
    "        if self.has_more:\n",
    "            self.next_page = raw_response['next_page']\n",
    "\n",
    "        \n",
    "\n",
    "    def get_dataframe(self, features):\n",
    "        dict_data = {feature: [card[feature] for card in self.raw_data] for feature in features}\n",
    "        self.data = pd.concat([self.data, pd.DataFrame(dict_data)], ignore_index=True)\n",
    "\n",
    "        if self.has_more:\n",
    "            self.data = pd.concat([self.data, ScryfallCardQuery(requests.get(self.next_page).json()).get_dataframe(features)], ignore_index=True)\n",
    "\n",
    "        return self.data"
   ]
  },
  {
   "cell_type": "markdown",
   "metadata": {},
   "source": [
    "Gathering set data with pandas"
   ]
  },
  {
   "cell_type": "code",
   "execution_count": 45,
   "metadata": {},
   "outputs": [
    {
     "data": {
      "text/html": [
       "<div>\n",
       "<style scoped>\n",
       "    .dataframe tbody tr th:only-of-type {\n",
       "        vertical-align: middle;\n",
       "    }\n",
       "\n",
       "    .dataframe tbody tr th {\n",
       "        vertical-align: top;\n",
       "    }\n",
       "\n",
       "    .dataframe thead th {\n",
       "        text-align: right;\n",
       "    }\n",
       "</style>\n",
       "<table border=\"1\" class=\"dataframe\">\n",
       "  <thead>\n",
       "    <tr style=\"text-align: right;\">\n",
       "      <th></th>\n",
       "      <th>name</th>\n",
       "      <th>type_line</th>\n",
       "      <th>cmc</th>\n",
       "      <th>colors</th>\n",
       "      <th>oracle_text</th>\n",
       "    </tr>\n",
       "  </thead>\n",
       "  <tbody>\n",
       "    <tr>\n",
       "      <th>0</th>\n",
       "      <td>A Little Chat</td>\n",
       "      <td>Instant</td>\n",
       "      <td>2.0</td>\n",
       "      <td>[U]</td>\n",
       "      <td>Casualty 1 (As you cast this spell, you may sa...</td>\n",
       "    </tr>\n",
       "    <tr>\n",
       "      <th>1</th>\n",
       "      <td>All-Seeing Arbiter</td>\n",
       "      <td>Creature — Avatar</td>\n",
       "      <td>6.0</td>\n",
       "      <td>[U]</td>\n",
       "      <td>Flying\\nWhenever All-Seeing Arbiter enters the...</td>\n",
       "    </tr>\n",
       "    <tr>\n",
       "      <th>2</th>\n",
       "      <td>Angelic Observer</td>\n",
       "      <td>Creature — Angel Advisor</td>\n",
       "      <td>6.0</td>\n",
       "      <td>[W]</td>\n",
       "      <td>This spell costs {1} less to cast for each Cit...</td>\n",
       "    </tr>\n",
       "    <tr>\n",
       "      <th>3</th>\n",
       "      <td>Angel of Suffering</td>\n",
       "      <td>Creature — Nightmare Angel</td>\n",
       "      <td>5.0</td>\n",
       "      <td>[B]</td>\n",
       "      <td>Flying\\nIf damage would be dealt to you, preve...</td>\n",
       "    </tr>\n",
       "    <tr>\n",
       "      <th>4</th>\n",
       "      <td>An Offer You Can't Refuse</td>\n",
       "      <td>Instant</td>\n",
       "      <td>1.0</td>\n",
       "      <td>[U]</td>\n",
       "      <td>Counter target noncreature spell. Its controll...</td>\n",
       "    </tr>\n",
       "    <tr>\n",
       "      <th>...</th>\n",
       "      <td>...</td>\n",
       "      <td>...</td>\n",
       "      <td>...</td>\n",
       "      <td>...</td>\n",
       "      <td>...</td>\n",
       "    </tr>\n",
       "    <tr>\n",
       "      <th>261</th>\n",
       "      <td>Wrecking Crew</td>\n",
       "      <td>Creature — Human Warrior</td>\n",
       "      <td>5.0</td>\n",
       "      <td>[R]</td>\n",
       "      <td>Reach, trample</td>\n",
       "    </tr>\n",
       "    <tr>\n",
       "      <th>262</th>\n",
       "      <td>Xander's Lounge</td>\n",
       "      <td>Land — Island Swamp Mountain</td>\n",
       "      <td>0.0</td>\n",
       "      <td>[]</td>\n",
       "      <td>({T}: Add {U}, {B}, or {R}.)\\nXander's Lounge ...</td>\n",
       "    </tr>\n",
       "    <tr>\n",
       "      <th>263</th>\n",
       "      <td>Ziatora's Envoy</td>\n",
       "      <td>Creature — Viashino Warrior</td>\n",
       "      <td>4.0</td>\n",
       "      <td>[B, G, R]</td>\n",
       "      <td>Trample\\nWhenever Ziatora's Envoy deals combat...</td>\n",
       "    </tr>\n",
       "    <tr>\n",
       "      <th>264</th>\n",
       "      <td>Ziatora's Proving Ground</td>\n",
       "      <td>Land — Swamp Mountain Forest</td>\n",
       "      <td>0.0</td>\n",
       "      <td>[]</td>\n",
       "      <td>({T}: Add {B}, {R}, or {G}.)\\nZiatora's Provin...</td>\n",
       "    </tr>\n",
       "    <tr>\n",
       "      <th>265</th>\n",
       "      <td>Ziatora, the Incinerator</td>\n",
       "      <td>Legendary Creature — Demon Dragon</td>\n",
       "      <td>6.0</td>\n",
       "      <td>[B, G, R]</td>\n",
       "      <td>Flying\\nAt the beginning of your end step, you...</td>\n",
       "    </tr>\n",
       "  </tbody>\n",
       "</table>\n",
       "<p>266 rows × 5 columns</p>\n",
       "</div>"
      ],
      "text/plain": [
       "                          name                          type_line  cmc  \\\n",
       "0                A Little Chat                            Instant  2.0   \n",
       "1           All-Seeing Arbiter                  Creature — Avatar  6.0   \n",
       "2             Angelic Observer           Creature — Angel Advisor  6.0   \n",
       "3           Angel of Suffering         Creature — Nightmare Angel  5.0   \n",
       "4    An Offer You Can't Refuse                            Instant  1.0   \n",
       "..                         ...                                ...  ...   \n",
       "261              Wrecking Crew           Creature — Human Warrior  5.0   \n",
       "262            Xander's Lounge       Land — Island Swamp Mountain  0.0   \n",
       "263            Ziatora's Envoy        Creature — Viashino Warrior  4.0   \n",
       "264   Ziatora's Proving Ground       Land — Swamp Mountain Forest  0.0   \n",
       "265   Ziatora, the Incinerator  Legendary Creature — Demon Dragon  6.0   \n",
       "\n",
       "        colors                                        oracle_text  \n",
       "0          [U]  Casualty 1 (As you cast this spell, you may sa...  \n",
       "1          [U]  Flying\\nWhenever All-Seeing Arbiter enters the...  \n",
       "2          [W]  This spell costs {1} less to cast for each Cit...  \n",
       "3          [B]  Flying\\nIf damage would be dealt to you, preve...  \n",
       "4          [U]  Counter target noncreature spell. Its controll...  \n",
       "..         ...                                                ...  \n",
       "261        [R]                                     Reach, trample  \n",
       "262         []  ({T}: Add {U}, {B}, or {R}.)\\nXander's Lounge ...  \n",
       "263  [B, G, R]  Trample\\nWhenever Ziatora's Envoy deals combat...  \n",
       "264         []  ({T}: Add {B}, {R}, or {G}.)\\nZiatora's Provin...  \n",
       "265  [B, G, R]  Flying\\nAt the beginning of your end step, you...  \n",
       "\n",
       "[266 rows x 5 columns]"
      ]
     },
     "execution_count": 45,
     "metadata": {},
     "output_type": "execute_result"
    }
   ],
   "source": [
    "response = requests.get(\"https://api.scryfall.com/cards/search?q=set:snc\")\n",
    "snc_query = ScryfallCardQuery(response.json())\n",
    "features = ['name', 'type_line', 'cmc', 'colors','oracle_text']\n",
    "snc_data = snc_query.get_dataframe(features)\n",
    "snc_data"
   ]
  },
  {
   "cell_type": "code",
   "execution_count": 46,
   "metadata": {},
   "outputs": [],
   "source": [
    "#Dropping Outliers\n",
    "snc_data.drop(axis=0, index=211, inplace=True)"
   ]
  },
  {
   "cell_type": "markdown",
   "metadata": {},
   "source": [
    "Type line manual one-hot encoding"
   ]
  },
  {
   "cell_type": "code",
   "execution_count": 47,
   "metadata": {},
   "outputs": [
    {
     "data": {
      "text/html": [
       "<div>\n",
       "<style scoped>\n",
       "    .dataframe tbody tr th:only-of-type {\n",
       "        vertical-align: middle;\n",
       "    }\n",
       "\n",
       "    .dataframe tbody tr th {\n",
       "        vertical-align: top;\n",
       "    }\n",
       "\n",
       "    .dataframe thead th {\n",
       "        text-align: right;\n",
       "    }\n",
       "</style>\n",
       "<table border=\"1\" class=\"dataframe\">\n",
       "  <thead>\n",
       "    <tr style=\"text-align: right;\">\n",
       "      <th></th>\n",
       "      <th>name</th>\n",
       "      <th>type_line</th>\n",
       "      <th>cmc</th>\n",
       "      <th>colors</th>\n",
       "      <th>oracle_text</th>\n",
       "    </tr>\n",
       "  </thead>\n",
       "  <tbody>\n",
       "    <tr>\n",
       "      <th>0</th>\n",
       "      <td>A Little Chat</td>\n",
       "      <td>Instant</td>\n",
       "      <td>2.0</td>\n",
       "      <td>U</td>\n",
       "      <td>Casualty 1 (As you cast this spell, you may sa...</td>\n",
       "    </tr>\n",
       "    <tr>\n",
       "      <th>1</th>\n",
       "      <td>All-Seeing Arbiter</td>\n",
       "      <td>Creature — Avatar</td>\n",
       "      <td>6.0</td>\n",
       "      <td>U</td>\n",
       "      <td>Flying\\nWhenever All-Seeing Arbiter enters the...</td>\n",
       "    </tr>\n",
       "    <tr>\n",
       "      <th>2</th>\n",
       "      <td>Angelic Observer</td>\n",
       "      <td>Creature — Angel Advisor</td>\n",
       "      <td>6.0</td>\n",
       "      <td>W</td>\n",
       "      <td>This spell costs {1} less to cast for each Cit...</td>\n",
       "    </tr>\n",
       "    <tr>\n",
       "      <th>3</th>\n",
       "      <td>Angel of Suffering</td>\n",
       "      <td>Creature — Nightmare Angel</td>\n",
       "      <td>5.0</td>\n",
       "      <td>B</td>\n",
       "      <td>Flying\\nIf damage would be dealt to you, preve...</td>\n",
       "    </tr>\n",
       "    <tr>\n",
       "      <th>4</th>\n",
       "      <td>An Offer You Can't Refuse</td>\n",
       "      <td>Instant</td>\n",
       "      <td>1.0</td>\n",
       "      <td>U</td>\n",
       "      <td>Counter target noncreature spell. Its controll...</td>\n",
       "    </tr>\n",
       "    <tr>\n",
       "      <th>...</th>\n",
       "      <td>...</td>\n",
       "      <td>...</td>\n",
       "      <td>...</td>\n",
       "      <td>...</td>\n",
       "      <td>...</td>\n",
       "    </tr>\n",
       "    <tr>\n",
       "      <th>261</th>\n",
       "      <td>Wrecking Crew</td>\n",
       "      <td>Creature — Human Warrior</td>\n",
       "      <td>5.0</td>\n",
       "      <td>R</td>\n",
       "      <td>Reach, trample</td>\n",
       "    </tr>\n",
       "    <tr>\n",
       "      <th>262</th>\n",
       "      <td>Xander's Lounge</td>\n",
       "      <td>Land — Island Swamp Mountain</td>\n",
       "      <td>0.0</td>\n",
       "      <td>colorless</td>\n",
       "      <td>({T}: Add {U}, {B}, or {R}.)\\nXander's Lounge ...</td>\n",
       "    </tr>\n",
       "    <tr>\n",
       "      <th>263</th>\n",
       "      <td>Ziatora's Envoy</td>\n",
       "      <td>Creature — Viashino Warrior</td>\n",
       "      <td>4.0</td>\n",
       "      <td>BGR</td>\n",
       "      <td>Trample\\nWhenever Ziatora's Envoy deals combat...</td>\n",
       "    </tr>\n",
       "    <tr>\n",
       "      <th>264</th>\n",
       "      <td>Ziatora's Proving Ground</td>\n",
       "      <td>Land — Swamp Mountain Forest</td>\n",
       "      <td>0.0</td>\n",
       "      <td>colorless</td>\n",
       "      <td>({T}: Add {B}, {R}, or {G}.)\\nZiatora's Provin...</td>\n",
       "    </tr>\n",
       "    <tr>\n",
       "      <th>265</th>\n",
       "      <td>Ziatora, the Incinerator</td>\n",
       "      <td>Legendary Creature — Demon Dragon</td>\n",
       "      <td>6.0</td>\n",
       "      <td>BGR</td>\n",
       "      <td>Flying\\nAt the beginning of your end step, you...</td>\n",
       "    </tr>\n",
       "  </tbody>\n",
       "</table>\n",
       "<p>265 rows × 5 columns</p>\n",
       "</div>"
      ],
      "text/plain": [
       "                          name                          type_line  cmc  \\\n",
       "0                A Little Chat                            Instant  2.0   \n",
       "1           All-Seeing Arbiter                  Creature — Avatar  6.0   \n",
       "2             Angelic Observer           Creature — Angel Advisor  6.0   \n",
       "3           Angel of Suffering         Creature — Nightmare Angel  5.0   \n",
       "4    An Offer You Can't Refuse                            Instant  1.0   \n",
       "..                         ...                                ...  ...   \n",
       "261              Wrecking Crew           Creature — Human Warrior  5.0   \n",
       "262            Xander's Lounge       Land — Island Swamp Mountain  0.0   \n",
       "263            Ziatora's Envoy        Creature — Viashino Warrior  4.0   \n",
       "264   Ziatora's Proving Ground       Land — Swamp Mountain Forest  0.0   \n",
       "265   Ziatora, the Incinerator  Legendary Creature — Demon Dragon  6.0   \n",
       "\n",
       "        colors                                        oracle_text  \n",
       "0            U  Casualty 1 (As you cast this spell, you may sa...  \n",
       "1            U  Flying\\nWhenever All-Seeing Arbiter enters the...  \n",
       "2            W  This spell costs {1} less to cast for each Cit...  \n",
       "3            B  Flying\\nIf damage would be dealt to you, preve...  \n",
       "4            U  Counter target noncreature spell. Its controll...  \n",
       "..         ...                                                ...  \n",
       "261          R                                     Reach, trample  \n",
       "262  colorless  ({T}: Add {U}, {B}, or {R}.)\\nXander's Lounge ...  \n",
       "263        BGR  Trample\\nWhenever Ziatora's Envoy deals combat...  \n",
       "264  colorless  ({T}: Add {B}, {R}, or {G}.)\\nZiatora's Provin...  \n",
       "265        BGR  Flying\\nAt the beginning of your end step, you...  \n",
       "\n",
       "[265 rows x 5 columns]"
      ]
     },
     "execution_count": 47,
     "metadata": {},
     "output_type": "execute_result"
    }
   ],
   "source": [
    "def format_colors(row):\n",
    "    row.colors = str(row.colors).strip('[]').replace(\"', '\",'').replace('\\'','')\n",
    "    if row.colors == '':\n",
    "        row.colors = 'colorless'\n",
    "    return row\n",
    "\n",
    "snc_data = snc_data.apply(format_colors, axis='columns')\n",
    "snc_data\n"
   ]
  },
  {
   "cell_type": "code",
   "execution_count": 48,
   "metadata": {},
   "outputs": [
    {
     "data": {
      "text/plain": [
       "['Instant',\n",
       " 'Creature',\n",
       " 'Enchantment',\n",
       " 'Artifact',\n",
       " 'Land',\n",
       " 'Sorcery',\n",
       " 'Planeswalker']"
      ]
     },
     "execution_count": 48,
     "metadata": {},
     "output_type": "execute_result"
    }
   ],
   "source": [
    "def get_set_card_types(source, ignore=[None]):\n",
    "    unique_types = []\n",
    "\n",
    "    \n",
    "    for line in source:\n",
    "        candidates = line.split('—')[0].rstrip(' ').split(' ')\n",
    "        for card_type in candidates:\n",
    "            if card_type not in unique_types and card_type not in ignore:\n",
    "                unique_types.append(card_type)\n",
    "    \n",
    "    return unique_types\n",
    "    \n",
    "supertypes = ['Basic', 'Legendary']\n",
    "set_unique_types = get_set_card_types(snc_data.type_line, ignore=supertypes)\n",
    "set_unique_types\n",
    "\n",
    "# card_type_flags = pd.DataFrame({'is_'+str.lower(type):[type in text for text in snc_data.type_line] for type in set_unique_types})\n",
    "# len(card_type_flags)\n",
    "# test_snc_data = pd.concat([snc_data, card_type_flags], axis='columns')\n",
    "# test_snc_data.tail()"
   ]
  },
  {
   "cell_type": "code",
   "execution_count": 49,
   "metadata": {},
   "outputs": [
    {
     "data": {
      "text/plain": [
       "<AxesSubplot:title={'center':'Streets of New Capenna Card Type Distribution'}>"
      ]
     },
     "execution_count": 49,
     "metadata": {},
     "output_type": "execute_result"
    },
    {
     "data": {
      "image/png": "[encoded data removed]",
      "text/plain": [
       "<Figure size 864x576 with 1 Axes>"
      ]
     },
     "metadata": {
      "needs_background": "light"
     },
     "output_type": "display_data"
    }
   ],
   "source": [
    "snc_type_distribution = pd.Series(\n",
    "    {card_type:snc_data[snc_data.type_line.str.contains(card_type)].shape[0] for card_type in set_unique_types}\n",
    ").sort_values(ascending=False)\n",
    "\n",
    "plt.figure(figsize=(12,8))\n",
    "plt.title('Streets of New Capenna Card Type Distribution')\n",
    "sns.barplot(x=snc_type_distribution.index, y=snc_type_distribution)"
   ]
  },
  {
   "cell_type": "markdown",
   "metadata": {},
   "source": [
    "Archetype Card Pool Distribution and Curve"
   ]
  },
  {
   "cell_type": "code",
   "execution_count": 50,
   "metadata": {},
   "outputs": [],
   "source": [
    "def get_cost_distribution(set_data):\n",
    "    cost_distribution = set_data[set_data.type_line.str.contains('Land').map(lambda b: not b)]\n",
    "    return cost_distribution"
   ]
  },
  {
   "cell_type": "code",
   "execution_count": 51,
   "metadata": {},
   "outputs": [],
   "source": [
    "COLORLESS_HEX = '#9C9C9C'\n",
    "BANT_HEX = '#42BdB0'\n",
    "NAYA_HEX = '#FFE04D'\n",
    "GRIXIS_HEX = '#820098'\n",
    "ESPER_HEX = '#343D72'\n",
    "JUND_HEX = '#AA6A04'\n",
    "AZORIUS_HEX = '#5FC7FF'\n",
    "SELESNYA_HEX = '#90FFAD'\n",
    "GRUUL_HEX = '#FBAE00'\n",
    "RAKDOS_HEX = '#BA0500'\n",
    "DIMIR_HEX = '#080182'\n",
    "GREEN_HEX = '#13FF3C'\n",
    "BLUE_HEX = '#1C43D2'\n",
    "WHITE_HEX ='#EDEDED'\n",
    "RED_HEX = '#FF2222'\n",
    "BLACK_HEX  = '#323232'\n",
    "\n",
    "BROKERS_REGEX_PATTERN = '^[GUW]+$|^colorless$'\n",
    "BROKERS_COLOR_PATTERN = [COLORLESS_HEX,BANT_HEX,AZORIUS_HEX,SELESNYA_HEX,WHITE_HEX,GREEN_HEX,BLUE_HEX]\n",
    "\n",
    "CABARETTI_REGEX_PATTERN = '^[GWR]+$|^colorless$'\n",
    "CABARETTI_COLOR_PATTERN =  [COLORLESS_HEX, NAYA_HEX, SELESNYA_HEX, GRUUL_HEX, WHITE_HEX, GREEN_HEX, RED_HEX]\n",
    "\n",
    "MAESTROS_REGEX_PATTERN = '^[UBR]+$|^colorless$'\n",
    "MAESTROS_COLOR_PATTERN = [COLORLESS_HEX, GRIXIS_HEX, RAKDOS_HEX, DIMIR_HEX, BLUE_HEX, BLACK_HEX, RED_HEX]\n",
    "\n",
    "OBSCURA_REGEX_PATTERN = '^[UWB]+$|^colorless$'\n",
    "OBSCURA_COLOR_PATTERN = [COLORLESS_HEX, ESPER_HEX, DIMIR_HEX, AZORIUS_HEX, WHITE_HEX, BLACK_HEX, BLUE_HEX]\n",
    "\n",
    "RIVETEERS_REGEX_PATTERN = '^[GRB]+$|^colorless$'\n",
    "RIVETTERS_COLOR_PATTERN = [COLORLESS_HEX, JUND_HEX, GRUUL_HEX, RAKDOS_HEX, RED_HEX, BLACK_HEX, GREEN_HEX]"
   ]
  },
  {
   "cell_type": "code",
   "execution_count": 52,
   "metadata": {},
   "outputs": [
    {
     "data": {
      "image/png": "[encoded data removed]",
      "text/plain": [
       "<Figure size 864x576 with 1 Axes>"
      ]
     },
     "metadata": {
      "needs_background": "light"
     },
     "output_type": "display_data"
    },
    {
     "data": {
      "image/png": "[encoded data removed]",
      "text/plain": [
       "<Figure size 864x576 with 1 Axes>"
      ]
     },
     "metadata": {
      "needs_background": "light"
     },
     "output_type": "display_data"
    },
    {
     "data": {
      "image/png": "[encoded data removed]",
      "text/plain": [
       "<Figure size 864x576 with 1 Axes>"
      ]
     },
     "metadata": {
      "needs_background": "light"
     },
     "output_type": "display_data"
    },
    {
     "data": {
      "image/png": "[encoded data removed]",
      "text/plain": [
       "<Figure size 864x576 with 1 Axes>"
      ]
     },
     "metadata": {
      "needs_background": "light"
     },
     "output_type": "display_data"
    },
    {
     "data": {
      "image/png": "[encoded data removed]",
      "text/plain": [
       "<Figure size 864x576 with 1 Axes>"
      ]
     },
     "metadata": {
      "needs_background": "light"
     },
     "output_type": "display_data"
    }
   ],
   "source": [
    "def get_manabase_card_pool_displot(data_source, color_pattern, palette=None):\n",
    "    target_card_pool = data_source[data_source.colors.str.contains(color_pattern)]\n",
    "    color_key = target_card_pool.colors.sort_values().str.len().sort_values(ascending=False).index\n",
    "    sorted_target_card_pool = target_card_pool.reindex(color_key)\n",
    "    sorted_target_card_pool = sorted_target_card_pool.reset_index(drop=True)\n",
    "    if palette is not None:\n",
    "        sns.set_palette(sns.color_palette(palette))\n",
    "    target_curve_displot = sns.displot(data=sorted_target_card_pool,\n",
    "            x=sorted_target_card_pool.cmc.astype(int),\n",
    "            bins=sorted_target_card_pool.cmc.astype(int).max()+1,\n",
    "            hue='colors',\n",
    "            multiple='stack')\n",
    "\n",
    "    target_curve_displot.fig.set_size_inches(12,8)\n",
    "    return target_curve_displot\n",
    "\n",
    "\n",
    "brokers_curve_displot = get_manabase_card_pool_displot(snc_data, BROKERS_REGEX_PATTERN, BROKERS_COLOR_PATTERN)\n",
    "cabaretti_curve_displot = get_manabase_card_pool_displot(snc_data, CABARETTI_REGEX_PATTERN, CABARETTI_COLOR_PATTERN)\n",
    "maestros_curve_displot = get_manabase_card_pool_displot(snc_data, MAESTROS_REGEX_PATTERN, MAESTROS_COLOR_PATTERN)\n",
    "obscura_curve_displot = get_manabase_card_pool_displot(snc_data, OBSCURA_REGEX_PATTERN, OBSCURA_COLOR_PATTERN)\n",
    "riveteers_curve_displot = get_manabase_card_pool_displot(snc_data, RIVETEERS_REGEX_PATTERN, RIVETTERS_COLOR_PATTERN)\n",
    "\n"
   ]
  }
 ],
 "metadata": {
  "interpreter": {
   "hash": "afb734500600fd355917ca529030176ea0ca205570884b88f2f6f7d791fd3fbe"
  },
  "kernelspec": {
   "display_name": "Python 3.10.2 64-bit",
   "language": "python",
   "name": "python3"
  },
  "language_info": {
   "codemirror_mode": {
    "name": "ipython",
    "version": 3
   },
   "file_extension": ".py",
   "mimetype": "text/x-python",
   "name": "python",
   "nbconvert_exporter": "python",
   "pygments_lexer": "ipython3",
   "version": "3.10.2"
  },
  "orig_nbformat": 4
 },
 "nbformat": 4,
 "nbformat_minor": 2
}
